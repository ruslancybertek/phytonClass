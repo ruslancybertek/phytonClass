{
 "cells": [
  {
   "cell_type": "markdown",
   "metadata": {},
   "source": [
    "# EXERCISE 1"
   ]
  },
  {
   "cell_type": "code",
   "execution_count": 1,
   "metadata": {},
   "outputs": [
    {
     "name": "stdout",
     "output_type": "stream",
     "text": [
      "positive!\n",
      "even bigger!\n",
      "done.\n"
     ]
    }
   ],
   "source": [
    "x = 7\n",
    "if x > 0:\n",
    "    print('positive!')\n",
    "if x > 4:\n",
    "    print('even bigger!')\n",
    "if x > 10:\n",
    "    print('really big!')\n",
    "if x > 20:\n",
    "    print('huge!')\n",
    "print('done.')"
   ]
  },
  {
   "cell_type": "markdown",
   "metadata": {},
   "source": [
    "# EXERCISE 2"
   ]
  },
  {
   "cell_type": "code",
   "execution_count": 1,
   "metadata": {},
   "outputs": [
    {
     "name": "stdout",
     "output_type": "stream",
     "text": [
      "The x value: 1\n",
      "The y value: 5\n",
      "The z value: 6\n",
      "There are two real roots.\n"
     ]
    }
   ],
   "source": [
    "x = float(input('The x value: '))\n",
    "y = float(input('The y value: '))\n",
    "z = float(input('The z value: '))\n",
    "discrimination = (y**2) - (4*x*z)\n",
    "\n",
    "if discrimination > 0.0:\n",
    "    print ('There are two real roots.')\n",
    "elif discrimination < 0.0:\n",
    "    print ('There are complex roots.')\n",
    "else:\n",
    "    print ('There is one real root.')"
   ]
  },
  {
   "cell_type": "markdown",
   "metadata": {},
   "source": [
    "# EXERCISE 3"
   ]
  },
  {
   "cell_type": "code",
   "execution_count": 4,
   "metadata": {},
   "outputs": [
    {
     "name": "stdout",
     "output_type": "stream",
     "text": [
      "really big!\n"
     ]
    }
   ],
   "source": [
    "x = 100\n",
    "if x < 0:\n",
    "    print ('negative!')\n",
    "elif x < 4:\n",
    "    print ('even bigger!')\n",
    "elif x > 10:\n",
    "    print ('really big!')\n",
    "elif x > 20:\n",
    "    print ('huge!')"
   ]
  },
  {
   "cell_type": "markdown",
   "metadata": {},
   "source": [
    "# EXERCISE 4"
   ]
  },
  {
   "cell_type": "code",
   "execution_count": null,
   "metadata": {},
   "outputs": [],
   "source": [
    "print ('This program demonstrates the use of keyboard input.')\n",
    "score = int(input('Enter your test score (assumed an int):'))\n",
    "\n",
    "if score >= 90:\n",
    "    print ('Wow. You got an A!')\n",
    "elif score >= 80:\n",
    "    print ('You got a B. Good job!')\n",
    "elif score >= 70:\n",
    "    print ('Better luck next time.')\n",
    "elif score >= 60:\n",
    "    print ('You need to study more.')\n",
    "else:\n",
    "    print ('Please see the instructor.')\n",
    "    \n",
    "print ('Program complete.')"
   ]
  },
  {
   "cell_type": "markdown",
   "metadata": {},
   "source": [
    "# EXERCISE 5"
   ]
  },
  {
   "cell_type": "code",
   "execution_count": null,
   "metadata": {},
   "outputs": [],
   "source": [
    "grade = int(input('Enter your test score (assumed an int):'))\n",
    "print ('passed') if grade >= 70 else ('failed')"
   ]
  },
  {
   "cell_type": "markdown",
   "metadata": {},
   "source": [
    "# EXERCISE 6"
   ]
  },
  {
   "cell_type": "code",
   "execution_count": null,
   "metadata": {},
   "outputs": [],
   "source": [
    "# data\n",
    "min_vitamin = 85 # the minimum healthy level\n",
    "min_wt = 100 # the minimum weight for healthy patient\n",
    "# input data\n",
    "vitamin_count = int(input('enter patient vitamin level '))\n",
    "weight = int(input('enter patient weight '))\n",
    "# assess patient\n",
    "concerned = vitamin_count < min_vitamin or weight < min_wt\n",
    "medical_emergency = vitamin_count < min_vitamin and weight < min_wt\n",
    "# decide what to do\n",
    "if medical_emergency:\n",
    "    print ('code blue!!')\n",
    "elif concerned:\n",
    "    print ('prescribe multi-vitamin')\n",
    "else:\n",
    "    print ('see you in 6 months...')"
   ]
  },
  {
   "cell_type": "markdown",
   "metadata": {},
   "source": [
    "# HANDS ON"
   ]
  },
  {
   "cell_type": "markdown",
   "metadata": {},
   "source": [
    "Write a program that calculates the shipping cost according user's continent and payment\n",
    "\n",
    "Ask total price to the user\n",
    "Ask user destination continent (Only 3 of them America, Europe, Asia)\n",
    "\n",
    "If continent is America and total price less than equal to $50, shipping cost will be $50\n",
    "\n",
    "If continent is America and total price greater than $50, shipping cost will be $25\n",
    "\n",
    "If continent is Europe and total price less than equal to $50, shipping cost will be $25\n",
    "\n",
    "If continent is Europe and total price greater than $50, shipping cost will be $5\n",
    "\n",
    "If continent is Asia shipping cost will be $75\n",
    "\n",
    "Otherwise shipping cost will be FREE\n"
   ]
  },
  {
   "cell_type": "code",
   "execution_count": null,
   "metadata": {},
   "outputs": [],
   "source": [
    "x = 100\n",
    "if x < 0:\n",
    "    print ('negative!')\n",
    "elif x < 4:\n",
    "    print ('even bigger!')\n",
    "elif x > 10:\n",
    "    print ('really big!')\n",
    "elif x > 20:\n",
    "    print ('huge!')"
   ]
  },
  {
   "cell_type": "code",
   "execution_count": null,
   "metadata": {},
   "outputs": [],
   "source": [
    "price = int(input('enter price '))\n",
    "dest = str(input('enter destination '))\n",
    "if dest == 'America':\n",
    "    if price <= 50:\n",
    "        print ('Shipping cost will be $50')\n",
    "    else:\n",
    "        print ('Shipping cost will be $25')\n",
    "elif dest == 'Europe':\n",
    "    if price <= 50:\n",
    "        print ('Shipping cost will be $25')\n",
    "    else:\n",
    "        print ('Shipping cost will be $5')       \n",
    "elif dest == 'Asia':\n",
    "    print ('Shipping cost will be $75')\n",
    "else:\n",
    "    print ('Shipping cost will be FREE')"
   ]
  }
 ],
 "metadata": {
  "kernelspec": {
   "display_name": "Python 3",
   "language": "python",
   "name": "python3"
  },
  "language_info": {
   "codemirror_mode": {
    "name": "ipython",
    "version": 3
   },
   "file_extension": ".py",
   "mimetype": "text/x-python",
   "name": "python",
   "nbconvert_exporter": "python",
   "pygments_lexer": "ipython3",
   "version": "3.7.4"
  }
 },
 "nbformat": 4,
 "nbformat_minor": 2
}
