{
 "cells": [
  {
   "cell_type": "code",
   "execution_count": 9,
   "metadata": {},
   "outputs": [
    {
     "output_type": "stream",
     "name": "stdout",
     "text": "Your age is:  5\n"
    }
   ],
   "source": [
    "age = input(\"Please enter your age in numbers: \")\n",
    "i=0\n",
    "\n",
    "while not age.isdigit():\n",
    "    print(\"Wrong format. Please enter your age in numbers\")\n",
    "    age = input(\"Please enter your age in numbers: \")\n",
    "    i+=1\n",
    "    if i==3:\n",
    "        break\n",
    "print(\"Your age is: \", age)\n",
    ""
   ]
  },
  {
   "cell_type": "code",
   "execution_count": 17,
   "metadata": {},
   "outputs": [
    {
     "output_type": "error",
     "ename": "IndexError",
     "evalue": "list index out of range",
     "traceback": [
      "\u001b[0;31m---------------------------------------------------------------------------\u001b[0m",
      "\u001b[0;31mIndexError\u001b[0m                                Traceback (most recent call last)",
      "\u001b[0;32m<ipython-input-17-f84893bb37fe>\u001b[0m in \u001b[0;36m<module>\u001b[0;34m\u001b[0m\n\u001b[1;32m      7\u001b[0m \u001b[0;34m\u001b[0m\u001b[0m\n\u001b[1;32m      8\u001b[0m \u001b[0;32mwhile\u001b[0m \u001b[0mi\u001b[0m \u001b[0;34m<=\u001b[0m \u001b[0mlen\u001b[0m\u001b[0;34m(\u001b[0m\u001b[0muser_ls\u001b[0m\u001b[0;34m)\u001b[0m\u001b[0;34m:\u001b[0m\u001b[0;34m\u001b[0m\u001b[0;34m\u001b[0m\u001b[0m\n\u001b[0;32m----> 9\u001b[0;31m     \u001b[0;32mif\u001b[0m \u001b[0mlen\u001b[0m\u001b[0;34m(\u001b[0m\u001b[0muser_ls\u001b[0m\u001b[0;34m[\u001b[0m\u001b[0mi\u001b[0m\u001b[0;34m]\u001b[0m\u001b[0;34m)\u001b[0m \u001b[0;34m>\u001b[0m\u001b[0mlongest\u001b[0m\u001b[0;34m:\u001b[0m\u001b[0;34m\u001b[0m\u001b[0;34m\u001b[0m\u001b[0m\n\u001b[0m\u001b[1;32m     10\u001b[0m        \u001b[0mlongest\u001b[0m \u001b[0;34m=\u001b[0m \u001b[0mlen\u001b[0m\u001b[0;34m(\u001b[0m\u001b[0muser_ls\u001b[0m\u001b[0;34m[\u001b[0m\u001b[0mi\u001b[0m\u001b[0;34m]\u001b[0m\u001b[0;34m)\u001b[0m\u001b[0;34m\u001b[0m\u001b[0;34m\u001b[0m\u001b[0m\n\u001b[1;32m     11\u001b[0m        \u001b[0mi\u001b[0m \u001b[0;34m+=\u001b[0m \u001b[0;36m1\u001b[0m\u001b[0;34m\u001b[0m\u001b[0;34m\u001b[0m\u001b[0m\n",
      "\u001b[0;31mIndexError\u001b[0m: list index out of range"
     ]
    }
   ],
   "source": [
    "sentence = input(\"Please give a 2 words sentence: \")\n",
    "\n",
    "user_ls = sentence.split()\n",
    "\n",
    "i = 0\n",
    "longest = 0\n",
    "\n",
    "while i <= len(user_ls):\n",
    "    if len(user_ls[i]) >longest:\n",
    "       longest = len(user_ls[i])\n",
    "       i += 1\n",
    "\n",
    "print(user_ls[0], longest, sep='\\n')      \n",
    ""
   ]
  },
  {
   "cell_type": "code",
   "execution_count": 18,
   "metadata": {},
   "outputs": [
    {
     "output_type": "stream",
     "name": "stdout",
     "text": "Ahmed\nAli\nZahra\n"
    }
   ],
   "source": [
    "names = ['Ahmed','Ali','Zahra']\n",
    "\n",
    "for name in names:\n",
    "    print(name)"
   ]
  },
  {
   "cell_type": "code",
   "execution_count": 31,
   "metadata": {},
   "outputs": [
    {
     "output_type": "stream",
     "name": "stdout",
     "text": "1\n2\n3\n4\n5\n6\n7\n8\n9\n"
    }
   ],
   "source": [
    "\n",
    "for num in range(1,10):\n",
    "    print(num)"
   ]
  },
  {
   "cell_type": "code",
   "execution_count": 33,
   "metadata": {},
   "outputs": [
    {
     "output_type": "stream",
     "name": "stdout",
     "text": "c l a r u s w a y"
    }
   ],
   "source": [
    "course = 'clarusway'\n",
    "\n",
    "for i in course:\n",
    "    print(i, end=' ')"
   ]
  },
  {
   "cell_type": "code",
   "execution_count": 40,
   "metadata": {},
   "outputs": [
    {
     "output_type": "stream",
     "name": "stdout",
     "text": "0 1 2 3 4\n"
    }
   ],
   "source": [
    "print(*range(0,5))"
   ]
  },
  {
   "cell_type": "code",
   "execution_count": 41,
   "metadata": {},
   "outputs": [
    {
     "output_type": "stream",
     "name": "stdout",
     "text": "1\n2\n3\n4\n5\n6\n7\n8\n9\n10\n"
    }
   ],
   "source": [
    "my_ls = list(range(1,11))\n",
    "\n",
    "for n in my_ls:\n",
    "    print(n)"
   ]
  },
  {
   "cell_type": "code",
   "execution_count": 44,
   "metadata": {},
   "outputs": [
    {
     "output_type": "stream",
     "name": "stdout",
     "text": "{0, 1, 2, 3, 4, 5, 6, 7, 8, 9}\n"
    }
   ],
   "source": [
    "a = set(range(0,10))\n",
    "print(a)"
   ]
  },
  {
   "cell_type": "code",
   "execution_count": null,
   "metadata": {},
   "outputs": [],
   "source": [
    "kids = list(range(3,13))\n",
    "teens = list(range(13,18))\n",
    "\n",
    "age = int(input(\"Please enter your age: \"))\n",
    "\n"
   ]
  },
  {
   "cell_type": "code",
   "execution_count": 45,
   "metadata": {},
   "outputs": [
    {
     "output_type": "stream",
     "name": "stdout",
     "text": "(0, 1, 2, 3, 4, 5, 6, 7, 8, 9, 10)\n"
    }
   ],
   "source": [
    "my_tup = tuple(range(11))\n",
    "print(my_tup)"
   ]
  },
  {
   "cell_type": "code",
   "execution_count": 46,
   "metadata": {},
   "outputs": [
    {
     "output_type": "stream",
     "name": "stdout",
     "text": "one is 1\ntwo is 2\nthree is 3\nfour is 4\nfive is 5\n"
    }
   ],
   "source": [
    "text = ['one', 'two', 'three', 'four', 'five']\n",
    "numbers = [1,2,3,4,5]\n",
    "\n",
    "for x,y in zip(text,numbers):\n",
    "    print(f\"{x} is {y}\")\n",
    ""
   ]
  },
  {
   "cell_type": "code",
   "execution_count": 49,
   "metadata": {},
   "outputs": [
    {
     "output_type": "stream",
     "name": "stdout",
     "text": "DC is capital of USA and population is 350\nToronto is capital of Canada and population is 35\nIstanbul is capital of Turkey and population is 70\nBaku is capital of Azerbaijan and population is 10\nCairo is capital of Egypt and population is 10\n"
    }
   ],
   "source": [
    "caps = ['DC', 'Toronto', 'Istanbul', 'Baku', 'Cairo']\n",
    "countries = ['USA', 'Canada', 'Turkey', 'Azerbaijan', 'Egypt']\n",
    "population = [350, 35, 70, 10, 10]\n",
    "\n",
    "for cap,country,count in zip(caps,countries,population):\n",
    "    print(f'{cap} is capital of {country} and population is {count}')"
   ]
  },
  {
   "cell_type": "code",
   "execution_count": 50,
   "metadata": {},
   "outputs": [
    {
     "output_type": "stream",
     "name": "stdout",
     "text": "even numbers is 0 and odd number is 1\neven numbers is 2 and odd number is 3\neven numbers is 4 and odd number is 5\neven numbers is 6 and odd number is 7\neven numbers is 8 and odd number is 9\n"
    }
   ],
   "source": [
    "evens = list(range(0,10,2))\n",
    "odds = list(range(1,10,2))\n",
    "\n",
    "for e,o in zip(evens,odds):\n",
    "    print(f\"even numbers is {e} and odd number is {o}\")"
   ]
  },
  {
   "cell_type": "code",
   "execution_count": 52,
   "metadata": {},
   "outputs": [
    {
     "output_type": "stream",
     "name": "stdout",
     "text": "[1, 3, 5, 7, 9, 11, 13, 15, 17, 19]\n[0, 2, 4, 6, 8, 10, 12, 14, 16, 18]\n"
    }
   ],
   "source": [
    "odds = []\n",
    "evens = []\n",
    "\n",
    "for n in range(20):\n",
    "   if n%2==0:\n",
    "       evens.append(n)\n",
    "   else:\n",
    "       odds.append(n)\n",
    "print(odds, evens, sep='\\n')              "
   ]
  },
  {
   "cell_type": "code",
   "execution_count": 54,
   "metadata": {},
   "outputs": [
    {
     "output_type": "stream",
     "name": "stdout",
     "text": "13\n{'e', 'n', 'c', 'l', 'd', 't', 'i', 's', ' ', 'f', 'h', 'o', 'v'}\n"
    }
   ],
   "source": [
    "print(len(set('listen to the voice of enlisted')))\n",
    "print(set('listen to the voice of enlisted'))"
   ]
  },
  {
   "cell_type": "code",
   "execution_count": 55,
   "metadata": {},
   "outputs": [
    {
     "output_type": "stream",
     "name": "stdout",
     "text": "1\n22\n333\n4444\n55555\n666666\n7777777\n88888888\n999999999\n"
    }
   ],
   "source": [
    "for i in range(1,10):\n",
    "    print(str(i)*i)"
   ]
  },
  {
   "cell_type": "code",
   "execution_count": 64,
   "metadata": {},
   "outputs": [
    {
     "output_type": "stream",
     "name": "stdout",
     "text": "2775\n"
    }
   ],
   "source": [
    "total = 0\n",
    "for n in range(1,75):\n",
    "    total += n\n",
    "print(total)"
   ]
  },
  {
   "cell_type": "code",
   "execution_count": 65,
   "metadata": {},
   "outputs": [
    {
     "output_type": "stream",
     "name": "stdout",
     "text": "25\n"
    }
   ],
   "source": [
    "numbers = {}\n",
    "\n",
    "numbers['x'] = 12\n",
    "numbers['y'] = 4\n",
    "numbers.update({'z': 3})\n",
    "\n",
    "print(numbers['x'] + numbers['y'] + numbers['z']**2)"
   ]
  },
  {
   "cell_type": "code",
   "execution_count": 67,
   "metadata": {},
   "outputs": [
    {
     "output_type": "stream",
     "name": "stdout",
     "text": "[10, 20, 30, 40, 50, 60, 70, 80, 90, 100]\n"
    }
   ],
   "source": [
    "numbers_10 = [10, 30, 40, 50, 60, 70, 80, 90, 100]\n",
    "numbers_10.insert(1,20)\n",
    "print(numbers_10)"
   ]
  },
  {
   "cell_type": "code",
   "execution_count": 71,
   "metadata": {},
   "outputs": [
    {
     "output_type": "stream",
     "name": "stdout",
     "text": "I am happy today\nI am happy every day\nI am confident today\nI am confident every day\nYou are happy today\nYou are happy every day\nYou are confident today\nYou are confident every day\n"
    }
   ],
   "source": [
    "person = ['I am ', 'You are ']\n",
    "mood = ['happy ', 'confident ']\n",
    "day = ['today', 'every day']\n",
    "\n",
    "for p in person:\n",
    "    for m in mood:\n",
    "        for d in day:\n",
    "          print(p + m + d) "
   ]
  },
  {
   "cell_type": "code",
   "execution_count": 73,
   "metadata": {},
   "outputs": [
    {
     "output_type": "stream",
     "name": "stdout",
     "text": "spinach\n"
    }
   ],
   "source": [
    "fruits_vegetables = [\"fruit\", \"vegetable\", [\"apple\", \"banana\", [\"mango\", \"avocado\"]], [\"spinach\", \"broccoli\"]]\n",
    "\n",
    "print(fruits_vegetables[3][0])"
   ]
  },
  {
   "cell_type": "code",
   "execution_count": 10,
   "metadata": {},
   "outputs": [
    {
     "output_type": "stream",
     "name": "stdout",
     "text": "Fibonacci sequence:\n[1, 1, 2, 3, 5, 8, 13, 21, 34, 55]\n"
    }
   ],
   "source": [
    "\n",
    "target = 10\n",
    "n1, n2 = 1, 1\n",
    "count = 0\n",
    "num_list = []\n",
    "if target <= 0:\n",
    "   print(\"Please enter a positive integer\")\n",
    "elif nterms == 1:\n",
    "   print(\"Fibonacci sequence upto\",target,\":\")\n",
    "   print(n1)\n",
    "else:\n",
    "   print(\"Fibonacci sequence:\")\n",
    "   while count < target:\n",
    "       num_list.append(n1)\n",
    "       summ = n1 + n2\n",
    "       n1 = n2\n",
    "       n2 = summ\n",
    "       count += 1\n",
    "print(num_list)       "
   ]
  },
  {
   "cell_type": "code",
   "execution_count": null,
   "metadata": {},
   "outputs": [],
   "source": [
    "       "
   ]
  },
  {
   "cell_type": "code",
   "execution_count": 4,
   "metadata": {},
   "outputs": [
    {
     "output_type": "stream",
     "name": "stdout",
     "text": "[2, 3, 5, 7, 11, 13, 17, 19, 23, 29, 31, 37, 41, 43, 47, 53, 59, 61, 67, 71, 73, 79, 83, 89, 97]\n"
    }
   ],
   "source": [
    "lis = []\n",
    "for num in range(2,100):\n",
    "    for i in range(2,num):\n",
    "        if (num % i) == 0:\n",
    "            break\n",
    "    else:\n",
    "        lis.append(num)\n",
    "print(lis) "
   ]
  },
  {
   "cell_type": "code",
   "execution_count": null,
   "metadata": {},
   "outputs": [],
   "source": []
  }
 ],
 "metadata": {
  "language_info": {
   "name": "python",
   "codemirror_mode": {
    "name": "ipython",
    "version": 3
   },
   "version": "3.7.6-final"
  },
  "orig_nbformat": 2,
  "file_extension": ".py",
  "mimetype": "text/x-python",
  "name": "python",
  "npconvert_exporter": "python",
  "pygments_lexer": "ipython3",
  "version": 3,
  "kernelspec": {
   "name": "python3",
   "display_name": "Python 3"
  }
 },
 "nbformat": 4,
 "nbformat_minor": 2
}