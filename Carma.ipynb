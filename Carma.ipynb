{
 "cells": [
  {
   "cell_type": "code",
   "execution_count": null,
   "metadata": {},
   "outputs": [],
   "source": [
    "grocer = [\"banana\", [\"orange\", [\"apple\", \"eggplant\", \"melon\", \"spinach\", \"cheese\", \"leek\" ], \"water\"], \"mandarin\"]\n",
    "print(grocer[1][1][1::2])"
   ]
  },
  {
   "cell_type": "code",
   "execution_count": null,
   "metadata": {},
   "outputs": [],
   "source": [
    "#text = \"My two favorite flowers are tulip and rose, two favorite colors are blue and green.\"\n",
    "\n",
    "flowers = [[\"jasmine\", [\"lavender\", \"rose\"], \"tulip\"]]\n",
    "colors = [\"red\", (\"blue\", [\"yellow\", \"green\"]), \"pink\"]\n",
    "\n",
    "text = \"My two favorite flowers are {0} and {1}, two favorite colors are {2} and {3}.\".format(flowers[0][2],flowers[0][1][1],colors[1][0],colors[1][1][1])\n",
    "print(text)"
   ]
  },
  {
   "cell_type": "code",
   "execution_count": null,
   "metadata": {},
   "outputs": [],
   "source": [
    "escapes = [\"\\n\\t\", (\"\\t\", \"\\t\\t\"), [\"\\n\", \"\\n\\t\\t\"]]\n",
    "sentence = \"I am 40 years old.{0} I have two children.{1} Data Science is my IT domain.\".format(escapes[0],escapes[2][1])\n",
    "print(sentence)"
   ]
  },
  {
   "cell_type": "code",
   "execution_count": null,
   "metadata": {},
   "outputs": [],
   "source": [
    "print(type(3.14))"
   ]
  },
  {
   "cell_type": "code",
   "execution_count": null,
   "metadata": {},
   "outputs": [],
   "source": [
    "print(\"\"\"'kskks\n",
    "kskkks\n",
    "kskkks\"\"\")"
   ]
  },
  {
   "cell_type": "code",
   "execution_count": null,
   "metadata": {},
   "outputs": [],
   "source": [
    "def if_elif(age,name):\n",
    "    if age < 18:\n",
    "       print(f\"{name} is Student\")\n",
    "    else:\n",
    "        print(f\"{name} is worker\")\n",
    "\n",
    "if_elif(age=20,name=\"Ruslan\")"
   ]
  },
  {
   "cell_type": "code",
   "execution_count": null,
   "metadata": {},
   "outputs": [],
   "source": [
    "answer = \"Please answer Yes/No\"\n",
    "age = input(f\"Are you a cigarette addict older than 75 years old? {answer}\").lower()\n",
    "chronic = input(f\"Do you have a severe chronic disease? {answer}\").lower()\n",
    "immune = input(f\"Is your immune system too weak? {answer}\").lower()\n",
    "\n",
    "if age=='yes' or chronic=='yes' or immune=='yes':\n",
    "    print(\"You are in risky group\")\n",
    "elif age=='no' and chronic=='no' and immune=='no':\n",
    "    print(\"You are not in risky group\")\n",
    "else:\n",
    "    print(f\"{answer} for all 3 questions\")        \n",
    ""
   ]
  },
  {
   "cell_type": "code",
   "execution_count": null,
   "metadata": {},
   "outputs": [],
   "source": [
    "customers = { \n",
    "'bank': \n",
    "{1: {'name': 'James', 'age': '27', 'sex': 'Male'}, \n",
    " 2: {'name': 'Nicole', 'age': '25', 'sex': 'Female'},  \n",
    " 3: {'name': 'Andy', 'age': '38', 'sex': 'Male'}, \n",
    " 4: {'name': 'Alex', 'age': '19', 'sex': 'Male'}, \n",
    " 5: {'name': 'Linda', 'age': '33', 'sex': 'Female'}, \n",
    "},\n",
    "'insurance':\n",
    "{1: {'name': 'Jashua', 'age': '33', 'sex': 'Male'}, \n",
    " 2: {'name': 'Marry', 'age': '66', 'sex': 'Female'},  \n",
    " 3: {'name': 'Adam', 'age': '56', 'sex': 'Male'}, \n",
    " 4: {'name': 'Samuel', 'age': '54', 'sex': 'Male'}, \n",
    " 5: {'name': 'Lisa', 'age': '22', 'sex': 'Female'},\n",
    "},\n",
    "}\n",
    "print(customers['insurance'][5]['age'])"
   ]
  },
  {
   "cell_type": "code",
   "execution_count": null,
   "metadata": {},
   "outputs": [],
   "source": [
    "num = list(123)\n",
    "print(num)"
   ]
  },
  {
   "cell_type": "code",
   "execution_count": null,
   "metadata": {},
   "outputs": [],
   "source": [
    "family_members = ['Meghan', 'Tom', 'Nicole', 'Tim']\n",
    "family_members = tuple(family_members)\n",
    "print(type(family_members))"
   ]
  },
  {
   "cell_type": "code",
   "execution_count": null,
   "metadata": {},
   "outputs": [],
   "source": [
    "flowers = ['Rose', 'Orchid', 'Tulip']\n",
    "count1 = len(flowers)\n",
    "count2 = 0\n",
    "\n",
    "while count1>0 :\n",
    "    print(flowers[count2])\n",
    "    count1 -= 1\n",
    "    count2 += 1"
   ]
  },
  {
   "cell_type": "code",
   "execution_count": null,
   "metadata": {},
   "outputs": [],
   "source": [
    "for i in {'n1' : 'one', 'n2' : 'two'}.items() :\n",
    "    print(i)"
   ]
  },
  {
   "cell_type": "code",
   "execution_count": null,
   "metadata": {},
   "outputs": [],
   "source": [
    "iterable = [1, 2, 3, 4]\n",
    "for i in iterable:\n",
    "    print(i**2)"
   ]
  },
  {
   "cell_type": "code",
   "execution_count": null,
   "metadata": {},
   "outputs": [],
   "source": [
    "print(998*2)"
   ]
  },
  {
   "cell_type": "code",
   "execution_count": null,
   "metadata": {},
   "outputs": [],
   "source": [
    "number = int(input('Please enter a number: '))\n",
    "while i in list(range(number)):\n",
    "      print(i)"
   ]
  },
  {
   "cell_type": "code",
   "execution_count": null,
   "metadata": {},
   "outputs": [],
   "source": [
    "    for i in range(1,101): \n",
    "        if i%3==0 and i%5==0:\n",
    "         print(f\"{i} divided by 3 and 5: FizzBuzz\")\n",
    "        elif i%3==0:\n",
    "         print(f\"{i} divided by 3: Fizz\")\n",
    "        elif i%5==0:\n",
    "         print(f\"{i} divided by 5: Buzz\")\n",
    "        else:\n",
    "         print(\"number is:\",i)\n",
    "\n",
    "\n",
    "                  "
   ]
  },
  {
   "cell_type": "code",
   "execution_count": null,
   "metadata": {},
   "outputs": [],
   "source": [
    " FzBz = []\n",
    " for i in range(1,101): \n",
    "        if i%3==0 and i%5==0:\n",
    "         FzBz.append(\"FizzBuzz\")\n",
    "         countFizBuz = FzBz.count(\"FizzBuzz\")\n",
    "        elif i%3==0:\n",
    "         FzBz.append(\"Fizz\")\n",
    "         countFiz = FzBz.count(\"Fizz\")\n",
    "        elif i%5==0:\n",
    "         FzBz.append(\"Buzz\")\n",
    "         countBuz = FzBz.count(\"Buzz\")\n",
    "        else:\n",
    "         FzBz.append(i)\n",
    "# print(FzBz) \n",
    "print(f\"FizzBuzz count is: {countFizBuz}, Fizz count is {countFiz}, Buzz count is {countBuz}\")        \n"
   ]
  },
  {
   "cell_type": "markdown",
   "metadata": {},
   "source": [
    "check prime nmbers"
   ]
  },
  {
   "cell_type": "code",
   "execution_count": null,
   "metadata": {},
   "outputs": [],
   "source": [
    "n = int(input(\"Please enter the range end point: \"))+1\n",
    "\n",
    "for i in range(1, n):\n",
    "    count = 0\n",
    "    for j in range(1,i+1):\n",
    "        if i % j == 0:\n",
    "            count +=1\n",
    "    if count == 2:\n",
    "        print(f\"{i} is a prime number\")        "
   ]
  },
  {
   "cell_type": "markdown",
   "metadata": {},
   "source": [
    "not weekday or vacation -----> I sleep more\n",
    "otherwise ------> I have to go to work"
   ]
  },
  {
   "cell_type": "code",
   "execution_count": null,
   "metadata": {},
   "outputs": [],
   "source": [
    "weekday = True\n",
    "vacation = False\n",
    "\n",
    "if weekday == False or vacation == True:\n",
    "    print('Sleep in sweetheart..... no work today!')\n",
    "else:\n",
    "    print(\"Sorry to go to work!!!\")"
   ]
  },
  {
   "cell_type": "code",
   "execution_count": 5,
   "metadata": {},
   "outputs": [
    {
     "output_type": "stream",
     "name": "stdout",
     "text": "7\n"
    }
   ],
   "source": [
    "nums1 = [4,3,2]\n",
    "nums2 = [3,7,5,4,5,6,4,5,5,6,4]\n",
    "\n",
    "toplam = nums1 + nums2\n",
    "\n",
    "toplam = sorted(nums1 + nums2)\n",
    "\n",
    "if len(toplam)%2 != 0:\n",
    "    print(toplam[len(toplam)//2])\n",
    "else:\n",
    "    print(toplam[len(toplam)//2] + toplam[len(toplam)//2-1]//2)\n",
    "\n",
    "        "
   ]
  },
  {
   "cell_type": "code",
   "execution_count": 9,
   "metadata": {},
   "outputs": [
    {
     "output_type": "execute_result",
     "data": {
      "text/plain": "['alma', 'armud', 'nar']"
     },
     "metadata": {},
     "execution_count": 9
    }
   ],
   "source": [
    "xList = \"alma armud nar\".split()\n",
    "xList"
   ]
  },
  {
   "cell_type": "code",
   "execution_count": 10,
   "metadata": {},
   "outputs": [
    {
     "output_type": "execute_result",
     "data": {
      "text/plain": "['selvi', 'vahit', 'az']"
     },
     "metadata": {},
     "execution_count": 10
    }
   ],
   "source": [
    "yList = \"selvi vahit az\".split()\n",
    "yList"
   ]
  },
  {
   "cell_type": "code",
   "execution_count": 12,
   "metadata": {},
   "outputs": [],
   "source": [
    "result = []\n",
    "\n",
    "for i in xList:\n",
    "    for j in yList:\n",
    "        result.append(i + j)"
   ]
  },
  {
   "cell_type": "code",
   "execution_count": 1,
   "metadata": {},
   "outputs": [
    {
     "output_type": "stream",
     "name": "stdout",
     "text": "HiHi\n"
    }
   ],
   "source": [
    "print('Hi'*2)"
   ]
  },
  {
   "cell_type": "code",
   "execution_count": 4,
   "metadata": {},
   "outputs": [
    {
     "output_type": "stream",
     "name": "stdout",
     "text": "HiHi\nHiHiHi\nHi\n"
    }
   ],
   "source": [
    "def string_times(str, n):\n",
    "  print(str*n)\n",
    "  \n",
    "string_times('Hi', 2)\n",
    "string_times('Hi', 3)\n",
    "string_times('Hi', 1)"
   ]
  },
  {
   "cell_type": "code",
   "execution_count": 2,
   "metadata": {},
   "outputs": [
    {
     "output_type": "stream",
     "name": "stdout",
     "text": "<class 'tuple'>\n{1, 2, 3, 'on', 'instagram', 'pythonhub'}\n"
    }
   ],
   "source": [
    "myset1 = (1,2, 3,'on')\n",
    "myset2 = ('pythonhub','instagram')\n",
    "print(type(myset1))\n",
    "myset = myset1 + myset2\n",
    "myset = set(myset)\n",
    "print(myset)"
   ]
  },
  {
   "cell_type": "code",
   "execution_count": 4,
   "metadata": {},
   "outputs": [
    {
     "output_type": "stream",
     "name": "stdout",
     "text": "1\n3\n5\n7\n"
    }
   ],
   "source": []
  },
  {
   "cell_type": "code",
   "execution_count": 2,
   "metadata": {},
   "outputs": [
    {
     "output_type": "stream",
     "name": "stdout",
     "text": "False\n"
    }
   ],
   "source": [
    "b = [1,'name',False]\n",
    "print(all(b))"
   ]
  },
  {
   "cell_type": "code",
   "execution_count": 6,
   "metadata": {},
   "outputs": [
    {
     "output_type": "stream",
     "name": "stdout",
     "text": "5\n\n    This Function is Awesome\n    \n"
    }
   ],
   "source": [
    "def add(num1,num2):\n",
    "    \"\"\"\n",
    "    This Function is Awesome\n",
    "    \"\"\"\n",
    "    print(num1 + num2)\n",
    "\n",
    "add(2,3)\n",
    "print(add.__doc__)"
   ]
  },
  {
   "cell_type": "code",
   "execution_count": 7,
   "metadata": {},
   "outputs": [
    {
     "output_type": "stream",
     "name": "stdout",
     "text": "12\n"
    }
   ],
   "source": [
    "def my_function(width,height):\n",
    "    area = width * height\n",
    "    return area\n",
    "    \n",
    "print(my_function(3,4))"
   ]
  },
  {
   "cell_type": "code",
   "execution_count": 1,
   "metadata": {},
   "outputs": [
    {
     "output_type": "stream",
     "name": "stdout",
     "text": "I want to get: \n- banan\n- apple\n- blackberry\n"
    }
   ],
   "source": [
    "def fruiterer(*fruit):\n",
    "    print('I want to get: ')\n",
    "    for i in fruit:\n",
    "        print('-', i)\n",
    "fruiterer('banan', 'apple', 'blackberry')"
   ]
  },
  {
   "cell_type": "code",
   "execution_count": 5,
   "metadata": {},
   "outputs": [
    {
     "output_type": "error",
     "ename": "TypeError",
     "evalue": "unsupported operand type(s) for %: 'tuple' and 'int'",
     "traceback": [
      "\u001b[0;31m---------------------------------------------------------------------------\u001b[0m",
      "\u001b[0;31mTypeError\u001b[0m                                 Traceback (most recent call last)",
      "\u001b[0;32m<ipython-input-5-5234ddf475e9>\u001b[0m in \u001b[0;36m<module>\u001b[0;34m\u001b[0m\n\u001b[1;32m      6\u001b[0m            \u001b[0mprint\u001b[0m\u001b[0;34m(\u001b[0m\u001b[0mi\u001b[0m\u001b[0;34m)\u001b[0m\u001b[0;34m\u001b[0m\u001b[0;34m\u001b[0m\u001b[0m\n\u001b[1;32m      7\u001b[0m \u001b[0;34m\u001b[0m\u001b[0m\n\u001b[0;32m----> 8\u001b[0;31m \u001b[0mslicer\u001b[0m\u001b[0;34m(\u001b[0m\u001b[0;36m1\u001b[0m\u001b[0;34m,\u001b[0m\u001b[0;36m2\u001b[0m\u001b[0;34m,\u001b[0m\u001b[0;36m3\u001b[0m\u001b[0;34m,\u001b[0m\u001b[0;36m4\u001b[0m\u001b[0;34m,\u001b[0m\u001b[0;36m5\u001b[0m\u001b[0;34m,\u001b[0m\u001b[0;36m6\u001b[0m\u001b[0;34m,\u001b[0m\u001b[0;36m7\u001b[0m\u001b[0;34m,\u001b[0m\u001b[0;36m8\u001b[0m\u001b[0;34m,\u001b[0m\u001b[0;36m9\u001b[0m\u001b[0;34m)\u001b[0m\u001b[0;34m\u001b[0m\u001b[0;34m\u001b[0m\u001b[0m\n\u001b[0m",
      "\u001b[0;32m<ipython-input-5-5234ddf475e9>\u001b[0m in \u001b[0;36mslicer\u001b[0;34m(*nums)\u001b[0m\n\u001b[1;32m      1\u001b[0m \u001b[0;32mdef\u001b[0m \u001b[0mslicer\u001b[0m\u001b[0;34m(\u001b[0m\u001b[0;34m*\u001b[0m\u001b[0mnums\u001b[0m\u001b[0;34m)\u001b[0m\u001b[0;34m:\u001b[0m\u001b[0;34m\u001b[0m\u001b[0;34m\u001b[0m\u001b[0m\n\u001b[1;32m      2\u001b[0m     \u001b[0;32mfor\u001b[0m \u001b[0mi\u001b[0m \u001b[0;32min\u001b[0m \u001b[0mnums\u001b[0m\u001b[0;34m:\u001b[0m\u001b[0;34m\u001b[0m\u001b[0;34m\u001b[0m\u001b[0m\n\u001b[0;32m----> 3\u001b[0;31m         \u001b[0;32mif\u001b[0m \u001b[0mnums\u001b[0m \u001b[0;34m%\u001b[0m \u001b[0;36m2\u001b[0m \u001b[0;34m==\u001b[0m\u001b[0;36m0\u001b[0m\u001b[0;34m:\u001b[0m\u001b[0;34m\u001b[0m\u001b[0;34m\u001b[0m\u001b[0m\n\u001b[0m\u001b[1;32m      4\u001b[0m            \u001b[0mprint\u001b[0m\u001b[0;34m(\u001b[0m\u001b[0mi\u001b[0m\u001b[0;34m)\u001b[0m\u001b[0;34m\u001b[0m\u001b[0;34m\u001b[0m\u001b[0m\n\u001b[1;32m      5\u001b[0m         \u001b[0;32melse\u001b[0m\u001b[0;34m:\u001b[0m\u001b[0;34m\u001b[0m\u001b[0;34m\u001b[0m\u001b[0m\n",
      "\u001b[0;31mTypeError\u001b[0m: unsupported operand type(s) for %: 'tuple' and 'int'"
     ]
    }
   ],
   "source": [
    "def slicer(*nums):\n",
    "    for i in nums:\n",
    "        if nums % 2 ==0:\n",
    "           print(i)\n",
    "        else:\n",
    "           print(i)\n",
    "\n",
    "slicer(1,2,3,4,5,6,7,8,9)            "
   ]
  },
  {
   "cell_type": "code",
   "execution_count": 4,
   "metadata": {},
   "outputs": [
    {
     "output_type": "stream",
     "name": "stdout",
     "text": "even list : [2, 4, 6, 8]\nodd list : [1, 3, 5, 7, 9]\n"
    }
   ],
   "source": [
    "def slicer(*args):\n",
    "    even_list, odd_list = [], []\n",
    "    for n in args:\n",
    "        if n % 2 == 0:\n",
    "            even_list.append(n)\n",
    "        else:\n",
    "            odd_list.append(n)\n",
    "    print(f'even list : {even_list}')\n",
    "    print(f'odd list : {odd_list}')\n",
    "slicer(1,2,3,4,5,6,7,8,9)"
   ]
  },
  {
   "cell_type": "code",
   "execution_count": 6,
   "metadata": {},
   "outputs": [
    {
     "output_type": "stream",
     "name": "stdout",
     "text": "['Beth', 'Oscar', 'Justin', 'Frank']\n[26, 42, 18, 33]\n"
    }
   ],
   "source": [
    "def orginizer(**kwargs):\n",
    "    B,C, = [], []\n",
    "    for i,j in kwargs.items():\n",
    "        B.append(i)\n",
    "        C.append(j)\n",
    "    print(B)\n",
    "    print(C)\n",
    "orginizer(Beth=26, Oscar=42, Justin=18, Frank=33)"
   ]
  },
  {
   "cell_type": "code",
   "execution_count": 8,
   "metadata": {},
   "outputs": [
    {
     "output_type": "stream",
     "name": "stdout",
     "text": "46.0\n"
    }
   ],
   "source": [
    "def meaner(a,b,c):\n",
    "    avg = (a+b+c)/3\n",
    "    print(avg)\n",
    "friends={'a':44,'b':39,'c':55}\n",
    "\n",
    "meaner(**friends)"
   ]
  },
  {
   "cell_type": "code",
   "execution_count": 4,
   "metadata": {},
   "outputs": [
    {
     "output_type": "stream",
     "name": "stdout",
     "text": "XX\n"
    }
   ],
   "source": [
    "mappings = {1000: \"M\", 900: 'CM', 500: \"D\", 400: 'CD', 100: \"C\",\n",
    "              90: 'XC', 50: \"L\", 40: 'XL', 10: \"X\", 9: 'IX', 5: \"V\", 4: 'IV', 1: \"I\"}\n",
    "number = input (\"enter a number :\") # 1994 \"MCMXCIV\"\n",
    "result = \"\"\n",
    "if not number.isdigit():\n",
    "    print(\"Not Valid! Please enter a number between 1 and 3999, inclusively.\")\n",
    "else: \n",
    "    if int(number)<1 or int(number)>3999:\n",
    "        print(\"Not Valid! Please enter a number between 1 and 3999, inclusively.\")\n",
    "    elif int(number)>=1 and int(number)<=3999:  \n",
    "        number=int(number)\n",
    "        for k,v in mappings.items() : # k =1000\n",
    "            value = number // k # 1\n",
    "            result += v * value # M *1\n",
    "            number%=k # 994 \n",
    "        # \"MCMXCIV\"  \n",
    "print(result)"
   ]
  },
  {
   "cell_type": "code",
   "execution_count": 1,
   "metadata": {},
   "outputs": [
    {
     "output_type": "stream",
     "name": "stdout",
     "text": "200\n"
    }
   ],
   "source": [
    "def my_function(a,b):\n",
    "    print(a*b)\n",
    "my_function(10,20)"
   ]
  },
  {
   "cell_type": "code",
   "execution_count": 2,
   "metadata": {},
   "outputs": [
    {
     "output_type": "stream",
     "name": "stdout",
     "text": "9\n"
    }
   ],
   "source": [
    "square = lambda x: x**2\n",
    "print(square(3))"
   ]
  },
  {
   "cell_type": "code",
   "execution_count": 3,
   "metadata": {},
   "outputs": [
    {
     "output_type": "stream",
     "name": "stdout",
     "text": "3.5\n"
    }
   ],
   "source": [
    "print((lambda x,y:(x+y)/2)(3,4))"
   ]
  },
  {
   "cell_type": "code",
   "execution_count": null,
   "metadata": {},
   "outputs": [],
   "source": [
    "lambda x: 'odd' if x%2!=0 else 'even'"
   ]
  },
  {
   "cell_type": "code",
   "execution_count": 7,
   "metadata": {},
   "outputs": [
    {
     "output_type": "stream",
     "name": "stdout",
     "text": "yawsuralc\n"
    }
   ],
   "source": [
    "iterable = 'clarusway'\n",
    "reverser = (lambda x : x[::-1])(iterable)\n",
    "print(reverser)"
   ]
  },
  {
   "cell_type": "code",
   "execution_count": null,
   "metadata": {},
   "outputs": [],
   "source": [
    "for x in [1,2,3,4]:\n",
    "    print(lambda x: )"
   ]
  },
  {
   "cell_type": "code",
   "execution_count": 8,
   "metadata": {},
   "outputs": [
    {
     "output_type": "stream",
     "name": "stdout",
     "text": "I am the global one\nI am the global one\nThe globals are valid everywhere \n"
    }
   ],
   "source": [
    "text = \"I am the global one\"\n",
    " \n",
    "def global_func():\n",
    "    print(text)  # we can use 'text' in a function\n",
    "                 # because it's a global variable\n",
    "\n",
    "global_func()  # 'I am the global one' will be printed\n",
    "print(text)  # it can also be printed outside of the function\n",
    " \n",
    "text = \"The globals are valid everywhere \"\n",
    " \n",
    "global_func()  # we changed the value of 'text'\n",
    "# 'The globals are valid everywhere' will be printed\n",
    " "
   ]
  },
  {
   "cell_type": "code",
   "execution_count": null,
   "metadata": {},
   "outputs": [],
   "source": []
  }
 ],
 "metadata": {
  "language_info": {
   "name": "python",
   "codemirror_mode": {
    "name": "ipython",
    "version": 3
   },
   "version": "3.7.6-final"
  },
  "orig_nbformat": 2,
  "file_extension": ".py",
  "mimetype": "text/x-python",
  "name": "python",
  "npconvert_exporter": "python",
  "pygments_lexer": "ipython3",
  "version": 3,
  "kernelspec": {
   "name": "python_defaultSpec_1594490757968",
   "display_name": "Python 3.7.6 64-bit ('base': conda)"
  }
 },
 "nbformat": 4,
 "nbformat_minor": 2
}