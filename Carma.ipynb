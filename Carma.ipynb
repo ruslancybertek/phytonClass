{
 "nbformat": 4,
 "nbformat_minor": 2,
 "metadata": {
  "language_info": {
   "name": "python",
   "codemirror_mode": {
    "name": "ipython",
    "version": 3
   },
   "version": "3.7.6-final"
  },
  "orig_nbformat": 2,
  "file_extension": ".py",
  "mimetype": "text/x-python",
  "name": "python",
  "npconvert_exporter": "python",
  "pygments_lexer": "ipython3",
  "version": 3,
  "kernelspec": {
   "name": "python3",
   "display_name": "Python 3"
  }
 },
 "cells": [
  {
   "cell_type": "code",
   "execution_count": 5,
   "metadata": {},
   "outputs": [
    {
     "output_type": "stream",
     "name": "stdout",
     "text": "['eggplant', 'spinach', 'leek']\n"
    }
   ],
   "source": [
    "grocer = [\"banana\", [\"orange\", [\"apple\", \"eggplant\", \"melon\", \"spinach\", \"cheese\", \"leek\" ], \"water\"], \"mandarin\"]\n",
    "print(grocer[1][1][1::2])"
   ]
  },
  {
   "cell_type": "code",
   "execution_count": 24,
   "metadata": {},
   "outputs": [
    {
     "output_type": "stream",
     "name": "stdout",
     "text": "My two favorite flowers are tulip and rose, two favorite colors are blue and green.\n"
    }
   ],
   "source": [
    "#text = \"My two favorite flowers are tulip and rose, two favorite colors are blue and green.\"\n",
    "\n",
    "flowers = [[\"jasmine\", [\"lavender\", \"rose\"], \"tulip\"]]\n",
    "colors = [\"red\", (\"blue\", [\"yellow\", \"green\"]), \"pink\"]\n",
    "\n",
    "text = \"My two favorite flowers are {0} and {1}, two favorite colors are {2} and {3}.\".format(flowers[0][2],flowers[0][1][1],colors[1][0],colors[1][1][1])\n",
    "print(text)"
   ]
  },
  {
   "cell_type": "code",
   "execution_count": 38,
   "metadata": {},
   "outputs": [
    {
     "output_type": "stream",
     "name": "stdout",
     "text": "I am 40 years old.\n\t I have two children.\n\t\t Data Science is my IT domain.\n"
    }
   ],
   "source": [
    "escapes = [\"\\n\\t\", (\"\\t\", \"\\t\\t\"), [\"\\n\", \"\\n\\t\\t\"]]\n",
    "sentence = \"I am 40 years old.{0} I have two children.{1} Data Science is my IT domain.\".format(escapes[0],escapes[2][1])\n",
    "print(sentence)"
   ]
  },
  {
   "cell_type": "code",
   "execution_count": 41,
   "metadata": {},
   "outputs": [
    {
     "output_type": "stream",
     "name": "stdout",
     "text": "<class 'float'>\n"
    }
   ],
   "source": [
    "print(type(3.14))"
   ]
  },
  {
   "cell_type": "code",
   "execution_count": 42,
   "metadata": {},
   "outputs": [
    {
     "output_type": "stream",
     "name": "stdout",
     "text": "'kskks\nkskkks\nkskkks\n"
    }
   ],
   "source": [
    "print(\"\"\"'kskks\n",
    "kskkks\n",
    "kskkks\"\"\")"
   ]
  },
  {
   "cell_type": "code",
   "execution_count": 43,
   "metadata": {},
   "outputs": [
    {
     "output_type": "error",
     "ename": "SyntaxError",
     "evalue": "EOF while scanning triple-quoted string literal (<ipython-input-43-4b777b03c816>, line 1)",
     "traceback": [
      "\u001b[0;36m  File \u001b[0;32m\"<ipython-input-43-4b777b03c816>\"\u001b[0;36m, line \u001b[0;32m1\u001b[0m\n\u001b[0;31m    print('''')\u001b[0m\n\u001b[0m               ^\u001b[0m\n\u001b[0;31mSyntaxError\u001b[0m\u001b[0;31m:\u001b[0m EOF while scanning triple-quoted string literal\n"
     ]
    }
   ],
   "source": [
    "print('''')"
   ]
  },
  {
   "cell_type": "code",
   "execution_count": 45,
   "metadata": {},
   "outputs": [
    {
     "output_type": "stream",
     "name": "stdout",
     "text": "Ruslan is worker\n"
    }
   ],
   "source": [
    "def if_elif(age,name):\n",
    "    if age < 18:\n",
    "       print(f\"{name} is Student\")\n",
    "    else:\n",
    "        print(f\"{name} is worker\")\n",
    "\n",
    "if_elif(age=20,name=\"Ruslan\")"
   ]
  },
  {
   "cell_type": "code",
   "execution_count": 51,
   "metadata": {},
   "outputs": [
    {
     "output_type": "stream",
     "name": "stdout",
     "text": "You are in risky group\n"
    }
   ],
   "source": [
    "answer = \"Please answer Yes/No\"\n",
    "age = input(f\"Are you a cigarette addict older than 75 years old? {answer}\").lower()\n",
    "chronic = input(f\"Do you have a severe chronic disease? {answer}\").lower()\n",
    "immune = input(f\"Is your immune system too weak? {answer}\").lower()\n",
    "\n",
    "if age=='yes' or chronic=='yes' or immune=='yes':\n",
    "    print(\"You are in risky group\")\n",
    "elif age=='no' and chronic=='no' and immune=='no':\n",
    "    print(\"You are not in risky group\")\n",
    "else:\n",
    "    print(f\"{answer} for all 3 questions\")        \n",
    ""
   ]
  },
  {
   "cell_type": "code",
   "execution_count": 1,
   "metadata": {},
   "outputs": [
    {
     "output_type": "stream",
     "name": "stdout",
     "text": "22\n"
    }
   ],
   "source": [
    "customers = { \n",
    "'bank': \n",
    "{1: {'name': 'James', 'age': '27', 'sex': 'Male'}, \n",
    " 2: {'name': 'Nicole', 'age': '25', 'sex': 'Female'},  \n",
    " 3: {'name': 'Andy', 'age': '38', 'sex': 'Male'}, \n",
    " 4: {'name': 'Alex', 'age': '19', 'sex': 'Male'}, \n",
    " 5: {'name': 'Linda', 'age': '33', 'sex': 'Female'}, \n",
    "},\n",
    "'insurance':\n",
    "{1: {'name': 'Jashua', 'age': '33', 'sex': 'Male'}, \n",
    " 2: {'name': 'Marry', 'age': '66', 'sex': 'Female'},  \n",
    " 3: {'name': 'Adam', 'age': '56', 'sex': 'Male'}, \n",
    " 4: {'name': 'Samuel', 'age': '54', 'sex': 'Male'}, \n",
    " 5: {'name': 'Lisa', 'age': '22', 'sex': 'Female'},\n",
    "},\n",
    "}\n",
    "print(customers['insurance'][5]['age'])"
   ]
  },
  {
   "cell_type": "code",
   "execution_count": 6,
   "metadata": {},
   "outputs": [
    {
     "output_type": "error",
     "ename": "TypeError",
     "evalue": "'int' object is not iterable",
     "traceback": [
      "\u001b[0;31m---------------------------------------------------------------------------\u001b[0m",
      "\u001b[0;31mTypeError\u001b[0m                                 Traceback (most recent call last)",
      "\u001b[0;32m<ipython-input-6-b2af48cd6e26>\u001b[0m in \u001b[0;36m<module>\u001b[0;34m\u001b[0m\n\u001b[0;32m----> 1\u001b[0;31m \u001b[0mnum\u001b[0m \u001b[0;34m=\u001b[0m \u001b[0mlist\u001b[0m\u001b[0;34m(\u001b[0m\u001b[0;36m123\u001b[0m\u001b[0;34m)\u001b[0m\u001b[0;34m\u001b[0m\u001b[0;34m\u001b[0m\u001b[0m\n\u001b[0m\u001b[1;32m      2\u001b[0m \u001b[0mprint\u001b[0m\u001b[0;34m(\u001b[0m\u001b[0mnum\u001b[0m\u001b[0;34m)\u001b[0m\u001b[0;34m\u001b[0m\u001b[0;34m\u001b[0m\u001b[0m\n",
      "\u001b[0;31mTypeError\u001b[0m: 'int' object is not iterable"
     ]
    }
   ],
   "source": [
    "num = list(123)\n",
    "print(num)"
   ]
  },
  {
   "cell_type": "code",
   "execution_count": 8,
   "metadata": {},
   "outputs": [
    {
     "output_type": "stream",
     "name": "stdout",
     "text": "<class 'tuple'>\n"
    }
   ],
   "source": [
    "family_members = ['Meghan', 'Tom', 'Nicole', 'Tim']\n",
    "family_members = tuple(family_members)\n",
    "print(type(family_members))"
   ]
  },
  {
   "cell_type": "code",
   "execution_count": 9,
   "metadata": {},
   "outputs": [
    {
     "output_type": "stream",
     "name": "stdout",
     "text": "Rose\nOrchid\nTulip\n"
    }
   ],
   "source": [
    "flowers = ['Rose', 'Orchid', 'Tulip']\n",
    "count1 = len(flowers)\n",
    "count2 = 0\n",
    "\n",
    "while count1>0 :\n",
    "    print(flowers[count2])\n",
    "    count1 -= 1\n",
    "    count2 += 1"
   ]
  },
  {
   "cell_type": "code",
   "execution_count": 16,
   "metadata": {},
   "outputs": [
    {
     "output_type": "stream",
     "name": "stdout",
     "text": "('n1', 'one')\n('n2', 'two')\n"
    }
   ],
   "source": [
    "for i in {'n1' : 'one', 'n2' : 'two'}.items() :\n",
    "    print(i)"
   ]
  },
  {
   "cell_type": "code",
   "execution_count": 18,
   "metadata": {},
   "outputs": [
    {
     "output_type": "stream",
     "name": "stdout",
     "text": "1\n4\n9\n16\n"
    }
   ],
   "source": [
    "iterable = [1, 2, 3, 4]\n",
    "for i in iterable:\n",
    "    print(i**2)"
   ]
  },
  {
   "cell_type": "code",
   "execution_count": 19,
   "metadata": {},
   "outputs": [
    {
     "output_type": "stream",
     "name": "stdout",
     "text": "1996\n"
    }
   ],
   "source": [
    "print(998*2)"
   ]
  },
  {
   "cell_type": "code",
   "execution_count": 27,
   "metadata": {},
   "outputs": [],
   "source": [
    "number = int(input('Please enter a number: '))\n",
    "while i in list(range(number)):\n",
    "      print(i)"
   ]
  },
  {
   "cell_type": "code",
   "execution_count": null,
   "metadata": {},
   "outputs": [],
   "source": []
  }
 ]
}