{
 "cells": [
  {
   "cell_type": "code",
   "execution_count": null,
   "metadata": {},
   "outputs": [],
   "source": [
    "grocer = [\"banana\", [\"orange\", [\"apple\", \"eggplant\", \"melon\", \"spinach\", \"cheese\", \"leek\" ], \"water\"], \"mandarin\"]\n",
    "print(grocer[1][1][1::2])"
   ]
  },
  {
   "cell_type": "code",
   "execution_count": null,
   "metadata": {},
   "outputs": [],
   "source": [
    "#text = \"My two favorite flowers are tulip and rose, two favorite colors are blue and green.\"\n",
    "\n",
    "flowers = [[\"jasmine\", [\"lavender\", \"rose\"], \"tulip\"]]\n",
    "colors = [\"red\", (\"blue\", [\"yellow\", \"green\"]), \"pink\"]\n",
    "\n",
    "text = \"My two favorite flowers are {0} and {1}, two favorite colors are {2} and {3}.\".format(flowers[0][2],flowers[0][1][1],colors[1][0],colors[1][1][1])\n",
    "print(text)"
   ]
  },
  {
   "cell_type": "code",
   "execution_count": null,
   "metadata": {},
   "outputs": [],
   "source": [
    "escapes = [\"\\n\\t\", (\"\\t\", \"\\t\\t\"), [\"\\n\", \"\\n\\t\\t\"]]\n",
    "sentence = \"I am 40 years old.{0} I have two children.{1} Data Science is my IT domain.\".format(escapes[0],escapes[2][1])\n",
    "print(sentence)"
   ]
  },
  {
   "cell_type": "code",
   "execution_count": null,
   "metadata": {},
   "outputs": [],
   "source": [
    "print(type(3.14))"
   ]
  },
  {
   "cell_type": "code",
   "execution_count": null,
   "metadata": {},
   "outputs": [],
   "source": [
    "print(\"\"\"'kskks\n",
    "kskkks\n",
    "kskkks\"\"\")"
   ]
  },
  {
   "cell_type": "code",
   "execution_count": null,
   "metadata": {},
   "outputs": [],
   "source": [
    "def if_elif(age,name):\n",
    "    if age < 18:\n",
    "       print(f\"{name} is Student\")\n",
    "    else:\n",
    "        print(f\"{name} is worker\")\n",
    "\n",
    "if_elif(age=20,name=\"Ruslan\")"
   ]
  },
  {
   "cell_type": "code",
   "execution_count": null,
   "metadata": {},
   "outputs": [],
   "source": [
    "answer = \"Please answer Yes/No\"\n",
    "age = input(f\"Are you a cigarette addict older than 75 years old? {answer}\").lower()\n",
    "chronic = input(f\"Do you have a severe chronic disease? {answer}\").lower()\n",
    "immune = input(f\"Is your immune system too weak? {answer}\").lower()\n",
    "\n",
    "if age=='yes' or chronic=='yes' or immune=='yes':\n",
    "    print(\"You are in risky group\")\n",
    "elif age=='no' and chronic=='no' and immune=='no':\n",
    "    print(\"You are not in risky group\")\n",
    "else:\n",
    "    print(f\"{answer} for all 3 questions\")        \n",
    ""
   ]
  },
  {
   "cell_type": "code",
   "execution_count": null,
   "metadata": {},
   "outputs": [],
   "source": [
    "customers = { \n",
    "'bank': \n",
    "{1: {'name': 'James', 'age': '27', 'sex': 'Male'}, \n",
    " 2: {'name': 'Nicole', 'age': '25', 'sex': 'Female'},  \n",
    " 3: {'name': 'Andy', 'age': '38', 'sex': 'Male'}, \n",
    " 4: {'name': 'Alex', 'age': '19', 'sex': 'Male'}, \n",
    " 5: {'name': 'Linda', 'age': '33', 'sex': 'Female'}, \n",
    "},\n",
    "'insurance':\n",
    "{1: {'name': 'Jashua', 'age': '33', 'sex': 'Male'}, \n",
    " 2: {'name': 'Marry', 'age': '66', 'sex': 'Female'},  \n",
    " 3: {'name': 'Adam', 'age': '56', 'sex': 'Male'}, \n",
    " 4: {'name': 'Samuel', 'age': '54', 'sex': 'Male'}, \n",
    " 5: {'name': 'Lisa', 'age': '22', 'sex': 'Female'},\n",
    "},\n",
    "}\n",
    "print(customers['insurance'][5]['age'])"
   ]
  },
  {
   "cell_type": "code",
   "execution_count": null,
   "metadata": {},
   "outputs": [],
   "source": [
    "num = list(123)\n",
    "print(num)"
   ]
  },
  {
   "cell_type": "code",
   "execution_count": null,
   "metadata": {},
   "outputs": [],
   "source": [
    "family_members = ['Meghan', 'Tom', 'Nicole', 'Tim']\n",
    "family_members = tuple(family_members)\n",
    "print(type(family_members))"
   ]
  },
  {
   "cell_type": "code",
   "execution_count": null,
   "metadata": {},
   "outputs": [],
   "source": [
    "flowers = ['Rose', 'Orchid', 'Tulip']\n",
    "count1 = len(flowers)\n",
    "count2 = 0\n",
    "\n",
    "while count1>0 :\n",
    "    print(flowers[count2])\n",
    "    count1 -= 1\n",
    "    count2 += 1"
   ]
  },
  {
   "cell_type": "code",
   "execution_count": null,
   "metadata": {},
   "outputs": [],
   "source": [
    "for i in {'n1' : 'one', 'n2' : 'two'}.items() :\n",
    "    print(i)"
   ]
  },
  {
   "cell_type": "code",
   "execution_count": null,
   "metadata": {},
   "outputs": [],
   "source": [
    "iterable = [1, 2, 3, 4]\n",
    "for i in iterable:\n",
    "    print(i**2)"
   ]
  },
  {
   "cell_type": "code",
   "execution_count": null,
   "metadata": {},
   "outputs": [],
   "source": [
    "print(998*2)"
   ]
  },
  {
   "cell_type": "code",
   "execution_count": null,
   "metadata": {},
   "outputs": [],
   "source": [
    "number = int(input('Please enter a number: '))\n",
    "while i in list(range(number)):\n",
    "      print(i)"
   ]
  },
  {
   "cell_type": "code",
   "execution_count": null,
   "metadata": {},
   "outputs": [],
   "source": [
    "    for i in range(1,101): \n",
    "        if i%3==0 and i%5==0:\n",
    "         print(f\"{i} divided by 3 and 5: FizzBuzz\")\n",
    "        elif i%3==0:\n",
    "         print(f\"{i} divided by 3: Fizz\")\n",
    "        elif i%5==0:\n",
    "         print(f\"{i} divided by 5: Buzz\")\n",
    "        else:\n",
    "         print(\"number is:\",i)\n",
    "\n",
    "\n",
    "                  "
   ]
  },
  {
   "cell_type": "code",
   "execution_count": null,
   "metadata": {},
   "outputs": [],
   "source": [
    " FzBz = []\n",
    " for i in range(1,101): \n",
    "        if i%3==0 and i%5==0:\n",
    "         FzBz.append(\"FizzBuzz\")\n",
    "         countFizBuz = FzBz.count(\"FizzBuzz\")\n",
    "        elif i%3==0:\n",
    "         FzBz.append(\"Fizz\")\n",
    "         countFiz = FzBz.count(\"Fizz\")\n",
    "        elif i%5==0:\n",
    "         FzBz.append(\"Buzz\")\n",
    "         countBuz = FzBz.count(\"Buzz\")\n",
    "        else:\n",
    "         FzBz.append(i)\n",
    "# print(FzBz) \n",
    "print(f\"FizzBuzz count is: {countFizBuz}, Fizz count is {countFiz}, Buzz count is {countBuz}\")        \n"
   ]
  },
  {
   "cell_type": "markdown",
   "metadata": {},
   "source": [
    "check prime nmbers"
   ]
  },
  {
   "cell_type": "code",
   "execution_count": null,
   "metadata": {},
   "outputs": [],
   "source": [
    "n = int(input(\"Please enter the range end point: \"))+1\n",
    "\n",
    "for i in range(1, n):\n",
    "    count = 0\n",
    "    for j in range(1,i+1):\n",
    "        if i % j == 0:\n",
    "            count +=1\n",
    "    if count == 2:\n",
    "        print(f\"{i} is a prime number\")        "
   ]
  },
  {
   "cell_type": "markdown",
   "metadata": {},
   "source": [
    "not weekday or vacation -----> I sleep more\n",
    "otherwise ------> I have to go to work"
   ]
  },
  {
   "cell_type": "code",
   "execution_count": null,
   "metadata": {},
   "outputs": [],
   "source": [
    "weekday = True\n",
    "vacation = False\n",
    "\n",
    "if weekday == False or vacation == True:\n",
    "    print('Sleep in sweetheart..... no work today!')\n",
    "else:\n",
    "    print(\"Sorry to go to work!!!\")"
   ]
  },
  {
   "cell_type": "code",
   "execution_count": 5,
   "metadata": {},
   "outputs": [
    {
     "output_type": "stream",
     "name": "stdout",
     "text": "7\n"
    }
   ],
   "source": [
    "nums1 = [4,3,2]\n",
    "nums2 = [3,7,5,4,5,6,4,5,5,6,4]\n",
    "\n",
    "toplam = nums1 + nums2\n",
    "\n",
    "toplam = sorted(nums1 + nums2)\n",
    "\n",
    "if len(toplam)%2 != 0:\n",
    "    print(toplam[len(toplam)//2])\n",
    "else:\n",
    "    print(toplam[len(toplam)//2] + toplam[len(toplam)//2-1]//2)\n",
    "\n",
    "        "
   ]
  },
  {
   "cell_type": "code",
   "execution_count": 9,
   "metadata": {},
   "outputs": [
    {
     "output_type": "execute_result",
     "data": {
      "text/plain": "['alma', 'armud', 'nar']"
     },
     "metadata": {},
     "execution_count": 9
    }
   ],
   "source": [
    "xList = \"alma armud nar\".split()\n",
    "xList"
   ]
  },
  {
   "cell_type": "code",
   "execution_count": 10,
   "metadata": {},
   "outputs": [
    {
     "output_type": "execute_result",
     "data": {
      "text/plain": "['selvi', 'vahit', 'az']"
     },
     "metadata": {},
     "execution_count": 10
    }
   ],
   "source": [
    "yList = \"selvi vahit az\".split()\n",
    "yList"
   ]
  },
  {
   "cell_type": "code",
   "execution_count": 12,
   "metadata": {},
   "outputs": [],
   "source": [
    "result = []\n",
    "\n",
    "for i in xList:\n",
    "    for j in yList:\n",
    "        result.append(i + j)"
   ]
  },
  {
   "cell_type": "code",
   "execution_count": null,
   "metadata": {},
   "outputs": [],
   "source": []
  }
 ],
 "metadata": {
  "language_info": {
   "name": "python",
   "codemirror_mode": {
    "name": "ipython",
    "version": 3
   },
   "version": "3.7.6-final"
  },
  "orig_nbformat": 2,
  "file_extension": ".py",
  "mimetype": "text/x-python",
  "name": "python",
  "npconvert_exporter": "python",
  "pygments_lexer": "ipython3",
  "version": 3,
  "kernelspec": {
   "name": "python3",
   "display_name": "Python 3"
  }
 },
 "nbformat": 4,
 "nbformat_minor": 2
}