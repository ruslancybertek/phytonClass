{
 "cells": [
  {
   "cell_type": "code",
   "execution_count": 14,
   "metadata": {},
   "outputs": [
    {
     "output_type": "error",
     "ename": "ValueError",
     "evalue": "invalid literal for int() with base 10: '100.5'",
     "traceback": [
      "\u001b[0;31m---------------------------------------------------------------------------\u001b[0m",
      "\u001b[0;31mValueError\u001b[0m                                Traceback (most recent call last)",
      "\u001b[0;32m<ipython-input-14-6c4486640ce3>\u001b[0m in \u001b[0;36m<module>\u001b[0;34m\u001b[0m\n\u001b[0;32m----> 1\u001b[0;31m \u001b[0mnum\u001b[0m \u001b[0;34m=\u001b[0m \u001b[0mint\u001b[0m\u001b[0;34m(\u001b[0m\u001b[0minput\u001b[0m\u001b[0;34m(\u001b[0m\u001b[0;34m\"Enter a number: \"\u001b[0m\u001b[0;34m)\u001b[0m\u001b[0;34m)\u001b[0m\u001b[0;34m\u001b[0m\u001b[0;34m\u001b[0m\u001b[0m\n\u001b[0m\u001b[1;32m      2\u001b[0m \u001b[0;34m\u001b[0m\u001b[0m\n\u001b[1;32m      3\u001b[0m \u001b[0;34m\u001b[0m\u001b[0m\n\u001b[1;32m      4\u001b[0m \u001b[0mnum_len\u001b[0m \u001b[0;34m=\u001b[0m \u001b[0mlen\u001b[0m\u001b[0;34m(\u001b[0m\u001b[0mstr\u001b[0m\u001b[0;34m(\u001b[0m\u001b[0mnum\u001b[0m\u001b[0;34m)\u001b[0m\u001b[0;34m)\u001b[0m\u001b[0;34m\u001b[0m\u001b[0;34m\u001b[0m\u001b[0m\n\u001b[1;32m      5\u001b[0m \u001b[0;34m\u001b[0m\u001b[0m\n",
      "\u001b[0;31mValueError\u001b[0m: invalid literal for int() with base 10: '100.5'"
     ]
    }
   ],
   "source": [
    "num = input(\"Enter a number: \")\n",
    "\n",
    "\n",
    "num_len = len(num)\n",
    "\n",
    "sum = 0\n",
    "\n",
    "temp = num\n",
    "while temp > 0:\n",
    "   digit = temp % 10\n",
    "   sum += digit ** num_len\n",
    "   temp //= 10\n",
    "\n",
    "if num == sum:\n",
    "   print(num,\"is an Armstrong number\")\n",
    "elif num < 0:\n",
    "   print(\"Please enter a positive number\")\n",
    "elif type(num)==float:\n",
    "   print(\"Please enter an integer number\")           \n",
    "else:\n",
    "   print(num,\"is not an Armstrong number\")\n"
   ]
  },
  {
   "cell_type": "code",
   "execution_count": 1,
   "metadata": {},
   "outputs": [
    {
     "output_type": "stream",
     "name": "stdout",
     "text": "0 hour 0 minutes/s 6 second/s 6000 millisecond/s\n"
    }
   ],
   "source": [
    "\n",
    "    millis=input(\"Enter time in milliseconds \")\n",
    "    millis = int(millis)\n",
    "    seconds=(millis/1000)%60\n",
    "    seconds = int(seconds)\n",
    "    minutes=(millis/(1000*60))%60\n",
    "    minutes = int(minutes)\n",
    "    hours=(millis/(1000*60*60))%24\n",
    "\n",
    "    print (\"%d hour %d minutes/s %d second/s %d millisecond/s\" % (hours, minutes, seconds, millis))\n",
    "\n",
    ""
   ]
  },
  {
   "cell_type": "code",
   "execution_count": 21,
   "metadata": {},
   "outputs": [
    {
     "output_type": "stream",
     "name": "stdout",
     "text": "0.03388888888888889:2.033333333333333:2.0\n"
    }
   ],
   "source": [
    "def convertMillis(millis):\n",
    "     seconds=(millis/1000)%60\n",
    "     minutes=(millis/(1000*60))%60\n",
    "     hours=(millis/(1000*60*60))%24\n",
    "     return seconds, minutes, hours\n",
    "\n",
    "def main():\n",
    "     millis=input(\"Enter time in milliseconds \")\n",
    "     con_sec, con_min, con_hour = convertMillis(int(millis))\n",
    "     print(\"{0}:{1}:{2}\".format(con_hour, con_min, con_sec))\n",
    "\n",
    "main()"
   ]
  },
  {
   "cell_type": "code",
   "execution_count": 2,
   "metadata": {},
   "outputs": [
    {
     "output_type": "stream",
     "name": "stdout",
     "text": "1990 is not a leap year\n"
    }
   ],
   "source": [
    "year = int(input(\"Please enter a year: \"))\n",
    "\n",
    "if year%4==0 and year%100==0 and year%400==0:\n",
    "    print(year, \"is a leap year\")\n",
    "else:\n",
    "    print(year, \"is not a leap year\")    "
   ]
  },
  {
   "cell_type": "code",
   "execution_count": 42,
   "metadata": {},
   "outputs": [
    {
     "output_type": "stream",
     "name": "stdout",
     "text": "{'p': 1, 'h': 1, 'y': 2, 't': 1, 'o': 1, 'n': 1, ' ': 3, 'i': 2, 's': 1, 'm': 1, 'l': 1, 'f': 1, 'e': 1}\n"
    }
   ],
   "source": [
    "text = input(\"Please enter a word or sentence: \").lower()\n",
    "mapp = {}\n",
    "\n",
    "for i in text:\n",
    "       count = text.count(i)\n",
    "       mapp[i]=count\n",
    "print(mapp)"
   ]
  },
  {
   "cell_type": "code",
   "execution_count": 5,
   "metadata": {},
   "outputs": [
    {
     "output_type": "stream",
     "name": "stdout",
     "text": "0:2:2\n"
    }
   ],
   "source": [
    "def main():\n",
    "    millis=input(\"Enter time in milliseconds \")\n",
    "    millis = int(millis)\n",
    "    seconds=(millis/1000)%60\n",
    "    seconds = int(seconds)\n",
    "    minutes=(millis/(1000*60))%60\n",
    "    minutes = int(minutes)\n",
    "    hours=(millis/(1000*60*60))%24\n",
    "\n",
    "    print (\"%d:%d:%d\" % (hours, minutes, seconds))\n",
    "\n",
    "main()"
   ]
  },
  {
   "cell_type": "code",
   "execution_count": null,
   "metadata": {},
   "outputs": [],
   "source": []
  }
 ],
 "metadata": {
  "language_info": {
   "name": "python",
   "codemirror_mode": {
    "name": "ipython",
    "version": 3
   },
   "version": "3.7.6-final"
  },
  "orig_nbformat": 2,
  "file_extension": ".py",
  "mimetype": "text/x-python",
  "name": "python",
  "npconvert_exporter": "python",
  "pygments_lexer": "ipython3",
  "version": 3,
  "kernelspec": {
   "name": "python3",
   "display_name": "Python 3"
  }
 },
 "nbformat": 4,
 "nbformat_minor": 2
}